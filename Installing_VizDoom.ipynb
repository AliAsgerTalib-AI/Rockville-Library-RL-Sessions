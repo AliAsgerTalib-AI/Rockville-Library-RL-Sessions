{
  "nbformat": 4,
  "nbformat_minor": 0,
  "metadata": {
    "colab": {
      "name": "Installing VizDoom.ipynb",
      "version": "0.3.2",
      "provenance": [],
      "include_colab_link": true
    },
    "kernelspec": {
      "name": "python3",
      "display_name": "Python 3"
    }
  },
  "cells": [
    {
      "cell_type": "markdown",
      "metadata": {
        "id": "view-in-github",
        "colab_type": "text"
      },
      "source": [
        "<a href=\"https://colab.research.google.com/github/AliAsgerTalib-AI/Rockville-Library-RL-Sessions/blob/master/Installing_VizDoom.ipynb\" target=\"_parent\"><img src=\"https://colab.research.google.com/assets/colab-badge.svg\" alt=\"Open In Colab\"/></a>"
      ]
    },
    {
      "metadata": {
        "id": "cx7WNWnFyfnU",
        "colab_type": "code",
        "colab": {}
      },
      "cell_type": "code",
      "source": [
        "%%bash\n",
        "apt-get update"
      ],
      "execution_count": 0,
      "outputs": []
    },
    {
      "metadata": {
        "id": "wTAStL6GwTDS",
        "colab_type": "code",
        "colab": {}
      },
      "cell_type": "code",
      "source": [
        "%%bash\n",
        "# Install deps from \n",
        "# https://github.com/mwydmuch/ViZDoom/blob/master/doc/Building.md#-linux\n",
        "\n",
        "apt-get install build-essential zlib1g-dev libsdl2-dev libjpeg-dev \\\n",
        "nasm tar libbz2-dev libgtk2.0-dev cmake git libfluidsynth-dev libgme-dev \\\n",
        "libopenal-dev timidity libwildmidi-dev unzip"
      ],
      "execution_count": 0,
      "outputs": []
    },
    {
      "metadata": {
        "id": "nmt_vZbwxfmL",
        "colab_type": "code",
        "colab": {}
      },
      "cell_type": "code",
      "source": [
        "!apt-get install libboost-all-dev"
      ],
      "execution_count": 0,
      "outputs": []
    },
    {
      "metadata": {
        "id": "MmKVPZmCzGjZ",
        "colab_type": "code",
        "colab": {}
      },
      "cell_type": "code",
      "source": [
        "!apt-get install liblua5.1-dev"
      ],
      "execution_count": 0,
      "outputs": []
    },
    {
      "metadata": {
        "id": "h6lGE1Z3zLAa",
        "colab_type": "code",
        "colab": {}
      },
      "cell_type": "code",
      "source": [
        "!pip install vizdoom"
      ],
      "execution_count": 0,
      "outputs": []
    },
    {
      "metadata": {
        "id": "MAinUrsu_9tQ",
        "colab_type": "code",
        "colab": {}
      },
      "cell_type": "code",
      "source": [
        "from google.colab import drive\n",
        "drive.mount('/content/drive')"
      ],
      "execution_count": 0,
      "outputs": []
    },
    {
      "metadata": {
        "id": "ggGcOGCdAmEU",
        "colab_type": "code",
        "colab": {}
      },
      "cell_type": "code",
      "source": [
        "import os\n",
        "os.chdir(\"/content/drive/My Drive/Colab Notebooks/vizdoom/scenarios\")\n",
        "!ls"
      ],
      "execution_count": 0,
      "outputs": []
    },
    {
      "metadata": {
        "id": "iT9ZcBC71UbE",
        "colab_type": "code",
        "colab": {}
      },
      "cell_type": "code",
      "source": [
        "from vizdoom import *\n",
        "import random\n",
        "import time\n",
        "\n",
        "# if running local set it to False\n",
        "# this takes care of the video error, while running on Cloud\n",
        "\n",
        "cloudRunTime = True\n",
        "\n",
        "game = DoomGame()\n",
        "game.load_config(\"/content/drive/My Drive/Colab Notebooks/vizdoom/scenarios/basic.cfg\")\n",
        "\n",
        "# disable video for cloud remote run\n",
        "if cloudRunTime:\n",
        "  game.set_window_visible(False)  \n",
        "  \n",
        "game.init()\n",
        "\n",
        "shoot = [0, 0, 1]\n",
        "left = [1, 0, 0]\n",
        "right = [0, 1, 0]\n",
        "actions = [shoot, left, right]\n",
        "\n",
        "episodes = 3\n",
        "for i in range(episodes):\n",
        "    game.new_episode()\n",
        "    while not game.is_episode_finished():\n",
        "        state = game.get_state()\n",
        "        img = state.screen_buffer\n",
        "        misc = state.game_variables\n",
        "        reward = game.make_action(random.choice(actions))\n",
        "    print (\"Result:\", game.get_total_reward())\n",
        "game.close()    "
      ],
      "execution_count": 0,
      "outputs": []
    },
    {
      "metadata": {
        "id": "IFpL_O_E4T20",
        "colab_type": "code",
        "colab": {}
      },
      "cell_type": "code",
      "source": [
        ""
      ],
      "execution_count": 0,
      "outputs": []
    }
  ]
}