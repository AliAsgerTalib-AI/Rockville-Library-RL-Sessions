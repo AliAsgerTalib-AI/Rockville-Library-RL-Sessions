{
  "nbformat": 4,
  "nbformat_minor": 0,
  "metadata": {
    "colab": {
      "name": "Clone me VizDoom installation.ipynb",
      "version": "0.3.2",
      "provenance": [],
      "include_colab_link": true
    },
    "kernelspec": {
      "name": "python3",
      "display_name": "Python 3"
    }
  },
  "cells": [
    {
      "cell_type": "markdown",
      "metadata": {
        "id": "view-in-github",
        "colab_type": "text"
      },
      "source": [
        "<a href=\"https://colab.research.google.com/github/AliAsgerTalib-AI/Rockville-Library-RL-Sessions/blob/master/Clone_me_VizDoom_installation.ipynb\" target=\"_parent\"><img src=\"https://colab.research.google.com/assets/colab-badge.svg\" alt=\"Open In Colab\"/></a>"
      ]
    },
    {
      "metadata": {
        "id": "qgJ9cKYvr3pf",
        "colab_type": "code",
        "colab": {}
      },
      "cell_type": "code",
      "source": [
        "# Install VizDoom and all related Dependencies.\n",
        "\n",
        "# CLONE THIS NoteBook, into your google colab, and use it for VIZDoom related projects\n",
        "\n",
        "# do not make changes to VizDoom Installation Block"
      ],
      "execution_count": 0,
      "outputs": []
    },
    {
      "metadata": {
        "id": "afKVQYEssDs8",
        "colab_type": "text"
      },
      "cell_type": "markdown",
      "source": [
        "VizDoom Installation Block Starts\n"
      ]
    },
    {
      "metadata": {
        "id": "wTAStL6GwTDS",
        "colab_type": "code",
        "colab": {}
      },
      "cell_type": "code",
      "source": [
        "# Install deps from \n",
        "# https://github.com/mwydmuch/ViZDoom/blob/master/doc/Building.md#-linux"
      ],
      "execution_count": 0,
      "outputs": []
    },
    {
      "metadata": {
        "id": "cx7WNWnFyfnU",
        "colab_type": "code",
        "colab": {}
      },
      "cell_type": "code",
      "source": [
        "%%bash\n",
        "apt-get update\n",
        "apt-get install build-essential zlib1g-dev libsdl2-dev libjpeg-dev \\\n",
        "nasm tar libbz2-dev libgtk2.0-dev cmake git libfluidsynth-dev libgme-dev \\\n",
        "libopenal-dev timidity libwildmidi-dev unzip\n",
        "apt-get install libboost-all-dev\n",
        "apt-get install liblua5.1-dev\n",
        "pip install vizdoom"
      ],
      "execution_count": 0,
      "outputs": []
    },
    {
      "metadata": {
        "id": "MAinUrsu_9tQ",
        "colab_type": "code",
        "colab": {}
      },
      "cell_type": "code",
      "source": [
        "# Connect to google drive, to get and save models and configuration files\n",
        "# this will be our working directory \n",
        "# \"/content/drive/My Drive/Colab Notebooks/\"\n",
        "\n",
        "from google.colab import drive\n",
        "drive.mount('/content/drive')"
      ],
      "execution_count": 0,
      "outputs": []
    },
    {
      "metadata": {
        "id": "ggGcOGCdAmEU",
        "colab_type": "code",
        "colab": {}
      },
      "cell_type": "code",
      "source": [
        "# this is our vizdoom working directory \n",
        "#\"/content/drive/My Drive/Colab Notebooks/vizdoom/\"\n",
        "# this is where our scenarios will be \n",
        "#\"/content/drive/My Drive/Colab Notebooks/vizdoom/scenarios\"\n",
        "#this is where our models will be saved\n",
        "#\"/content/drive/My Drive/Colab Notebooks/vizdoom/models\""
      ],
      "execution_count": 0,
      "outputs": []
    },
    {
      "metadata": {
        "id": "qB_inr7fsUbX",
        "colab_type": "text"
      },
      "cell_type": "markdown",
      "source": [
        "VizDoom Installation Block Ends"
      ]
    },
    {
      "metadata": {
        "id": "nLjnpJHIsZyp",
        "colab_type": "text"
      },
      "cell_type": "markdown",
      "source": [
        "CODE Bloack Starts \n",
        "( makes changes below this block)"
      ]
    },
    {
      "metadata": {
        "id": "IFpL_O_E4T20",
        "colab_type": "code",
        "colab": {}
      },
      "cell_type": "code",
      "source": [
        ""
      ],
      "execution_count": 0,
      "outputs": []
    }
  ]
}