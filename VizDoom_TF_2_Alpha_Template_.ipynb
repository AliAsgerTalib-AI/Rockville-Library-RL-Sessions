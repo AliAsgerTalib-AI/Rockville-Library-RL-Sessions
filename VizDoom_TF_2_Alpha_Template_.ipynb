{
  "nbformat": 4,
  "nbformat_minor": 0,
  "metadata": {
    "colab": {
      "name": "Copy of VizDoom-TF 2 Alpha Template .ipynb",
      "version": "0.3.2",
      "provenance": [],
      "include_colab_link": true
    },
    "kernelspec": {
      "name": "python3",
      "display_name": "Python 3"
    }
  },
  "cells": [
    {
      "cell_type": "markdown",
      "metadata": {
        "id": "view-in-github",
        "colab_type": "text"
      },
      "source": [
        "<a href=\"https://colab.research.google.com/github/AliAsgerTalib-AI/Rockville-Library-RL-Sessions/blob/master/VizDoom_TF_2_Alpha_Template_.ipynb\" target=\"_parent\"><img src=\"https://colab.research.google.com/assets/colab-badge.svg\" alt=\"Open In Colab\"/></a>"
      ]
    },
    {
      "cell_type": "markdown",
      "metadata": {
        "id": "1_YAb8aouFtL",
        "colab_type": "text"
      },
      "source": [
        "Install Tensorflow 2 alpha \n",
        "\n",
        "Install VizDoom and all related libraries\n",
        "\n",
        "Mount your Google Drive for data, and to save models\n",
        "\n",
        "Vizdoom working directory:    \"/content/drive/My Drive/Colab Notebooks/vizdoom/\"\n",
        " \n",
        "Scenarios directory:  \"/content/drive/My Drive/Colab Notebooks/vizdoom/scenarios\"\n",
        " \n",
        "Models directory:  \"/content/drive/My Drive/Colab Notebooks/vizdoom/models\"\n"
      ]
    },
    {
      "cell_type": "code",
      "metadata": {
        "id": "IaABT5jJtOQ0",
        "colab_type": "code",
        "colab": {}
      },
      "source": [
        "%%bash\n",
        "apt-get update\n",
        "apt-get install build-essential zlib1g-dev libsdl2-dev libjpeg-dev \\\n",
        "nasm tar libbz2-dev libgtk2.0-dev cmake git libfluidsynth-dev libgme-dev \\\n",
        "libopenal-dev timidity libwildmidi-dev unzip\n",
        "apt-get install libboost-all-dev\n",
        "apt-get install liblua5.1-dev\n",
        "pip install vizdoom\n",
        "pip install -q tensorflow==2.0.0-alpha0"
      ],
      "execution_count": 0,
      "outputs": []
    },
    {
      "cell_type": "code",
      "metadata": {
        "id": "QdFfUGAfu78H",
        "colab_type": "code",
        "colab": {}
      },
      "source": [
        "from google.colab import drive\n",
        "drive.mount('/content/drive')"
      ],
      "execution_count": 0,
      "outputs": []
    },
    {
      "cell_type": "code",
      "metadata": {
        "id": "tgcaF4LrtBgY",
        "colab_type": "code",
        "colab": {}
      },
      "source": [
        "from __future__ import absolute_import, division, print_function, unicode_literals\n",
        "import tensorflow as tf\n"
      ],
      "execution_count": 0,
      "outputs": []
    }
  ]
}